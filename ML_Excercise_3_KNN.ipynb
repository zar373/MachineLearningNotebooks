{
  "nbformat": 4,
  "nbformat_minor": 0,
  "metadata": {
    "colab": {
      "provenance": []
    },
    "kernelspec": {
      "name": "python3",
      "display_name": "Python 3"
    },
    "language_info": {
      "name": "python"
    }
  },
  "cells": [
    {
      "cell_type": "code",
      "source": [
        "#Question 2: Analyze the performance of kNN with respect to accuracy, recall, precision, FPR, and ROC metrics obtained for heart dataset.\n",
        "import numpy as np\n",
        "import pandas as pd\n",
        "from sklearn.model_selection import train_test_split\n",
        "from sklearn import metrics\n",
        "from sklearn.neighbors import KNeighborsClassifier\n",
        "from sklearn.metrics import confusion_matrix, classification_report, roc_curve, roc_auc_score\n",
        "from sklearn import metrics\n",
        "\n",
        "# dropping target variable and spliting it\n",
        "df = pd.read_csv(\"/content/sample_data/heart - heart.csv\")\n",
        "predictors =df.drop('target', axis= 1)  # Use all features excluding target\n",
        "target = df[\"target\"]\n",
        "X_train, X_test, y_train, y_test= train_test_split(predictors, target, test_size= 0.20, random_state= 0)\n",
        "\n",
        "\n",
        "knn= KNeighborsClassifier(n_neighbors=5, n_jobs= -1).fit(X_train, Y_train)\n",
        "y_pred= knn.predict(X_test)\n",
        "print(\"The accuracy is \" + str(metrics.accuracy_score(y_test, y_pred) * 100) + \"%\")\n",
        "print(f'the confusion matrix is {confusion_matrix(y_test, y_pred)}')\n",
        "target_names = [\"class 0\", \"class 1\"]\n",
        "print(f'the classification report is:')\n",
        "print(classification_report(y_test, y_pred, target_names=target_names))\n",
        "fpr, tpr, thresholds = metrics.roc_curve(y_test, y_pred, pos_label=1 )\n",
        "print(f'the False positive rate (FPR) is {fpr}')\n",
        "print(f'the True positive rate (TPR) is {tpr}')\n",
        "roc_auc = roc_auc_score(y_test, y_pred)\n",
        "print(f'the Area under the ROC Curve is {roc_auc}')\n",
        "\n"
      ],
      "metadata": {
        "colab": {
          "base_uri": "https://localhost:8080/"
        },
        "id": "-9yNmNkw0Pex",
        "outputId": "49ab6753-3d02-4b51-a41d-e0a49d1f84f8"
      },
      "execution_count": null,
      "outputs": [
        {
          "output_type": "stream",
          "name": "stdout",
          "text": [
            "The accuracy is 63.934426229508205%\n",
            "the confusion matrix is [[17 10]\n",
            " [12 22]]\n",
            "the classification report is:\n",
            "              precision    recall  f1-score   support\n",
            "\n",
            "     class 0       0.59      0.63      0.61        27\n",
            "     class 1       0.69      0.65      0.67        34\n",
            "\n",
            "    accuracy                           0.64        61\n",
            "   macro avg       0.64      0.64      0.64        61\n",
            "weighted avg       0.64      0.64      0.64        61\n",
            "\n",
            "the False positive rate (FPR) is [0.         0.37037037 1.        ]\n",
            "the True positive rate (TPR) is [0.         0.64705882 1.        ]\n",
            "the Area under the ROC Curve is 0.6383442265795207\n"
          ]
        }
      ]
    },
    {
      "cell_type": "code",
      "source": [
        "#Question 3: Test the kNN algorithm with k=3, 6, 8, and 9 on heart dataset. Study the impact on performance metrics.\n",
        "\n",
        "k = [3, 6,8, 9]\n",
        "for i in k:\n",
        "  print(\"FOR K= \"+ str(i))\n",
        "  knn= KNeighborsClassifier(n_neighbors=i, n_jobs= -1).fit(X_train, Y_train)\n",
        "  Y_pred= knn.predict(X_test)\n",
        "  print(\"The accuracy is \"+str(metrics.accuracy_score(Y_test,Y_pred)*100)+\"%\")\n",
        "  print(confusion_matrix(Y_test, Y_pred))\n",
        "  target_names = ['class 0', 'class 1']\n",
        "  print(classification_report(Y_test, Y_pred,target_names=target_names))\n",
        "\n"
      ],
      "metadata": {
        "colab": {
          "base_uri": "https://localhost:8080/"
        },
        "id": "SiJPZCp00odu",
        "outputId": "2b710eef-af1c-41e3-d8eb-110933200a7b"
      },
      "execution_count": null,
      "outputs": [
        {
          "output_type": "stream",
          "name": "stdout",
          "text": [
            "FOR K= 3\n",
            "The accuracy is 63.934426229508205%\n",
            "[[17 10]\n",
            " [12 22]]\n",
            "              precision    recall  f1-score   support\n",
            "\n",
            "     class 0       0.59      0.63      0.61        27\n",
            "     class 1       0.69      0.65      0.67        34\n",
            "\n",
            "    accuracy                           0.64        61\n",
            "   macro avg       0.64      0.64      0.64        61\n",
            "weighted avg       0.64      0.64      0.64        61\n",
            "\n",
            "FOR K= 6\n",
            "The accuracy is 65.57377049180327%\n",
            "[[18  9]\n",
            " [12 22]]\n",
            "              precision    recall  f1-score   support\n",
            "\n",
            "     class 0       0.60      0.67      0.63        27\n",
            "     class 1       0.71      0.65      0.68        34\n",
            "\n",
            "    accuracy                           0.66        61\n",
            "   macro avg       0.65      0.66      0.65        61\n",
            "weighted avg       0.66      0.66      0.66        61\n",
            "\n",
            "FOR K= 8\n",
            "The accuracy is 68.85245901639344%\n",
            "[[19  8]\n",
            " [11 23]]\n",
            "              precision    recall  f1-score   support\n",
            "\n",
            "     class 0       0.63      0.70      0.67        27\n",
            "     class 1       0.74      0.68      0.71        34\n",
            "\n",
            "    accuracy                           0.69        61\n",
            "   macro avg       0.69      0.69      0.69        61\n",
            "weighted avg       0.69      0.69      0.69        61\n",
            "\n",
            "FOR K= 9\n",
            "The accuracy is 67.21311475409836%\n",
            "[[17 10]\n",
            " [10 24]]\n",
            "              precision    recall  f1-score   support\n",
            "\n",
            "     class 0       0.63      0.63      0.63        27\n",
            "     class 1       0.71      0.71      0.71        34\n",
            "\n",
            "    accuracy                           0.67        61\n",
            "   macro avg       0.67      0.67      0.67        61\n",
            "weighted avg       0.67      0.67      0.67        61\n",
            "\n"
          ]
        }
      ]
    },
    {
      "cell_type": "code",
      "source": [
        "# Question 4: Test the kNN algorithm with Euclidean and Manhattan distance metrics on heart dataset. Study the impact on performance metrics.\n",
        "\n",
        "import numpy as np\n",
        "import pandas as pd\n",
        "from sklearn.model_selection import train_test_split\n",
        "from sklearn.metrics import confusion_matrix, classification_report\n",
        "from collections import Counter\n",
        "\n",
        "\n",
        "# Features and target\n",
        "X = df.drop('target', axis=1).values\n",
        "y = df['target'].values\n",
        "\n",
        "# Split the data into training and testing sets\n",
        "X_train, X_test, y_train, y_test = train_test_split(X, y, test_size=0.2, random_state=0)\n",
        "\n",
        "# Distance functions\n",
        "def euclidean_distance(a, b):\n",
        "    return np.sqrt(np.sum((a - b)**2))\n",
        "\n",
        "def manhattan_distance(a, b):\n",
        "    return np.sum(np.abs(a - b))\n",
        "\n",
        "# KNN prediction function\n",
        "def knn_predict(X_train, y_train, X_test, k, distance_metric):\n",
        "    predictions = []\n",
        "    for x_test in X_test:\n",
        "        distances = []\n",
        "        for x_train, y_train_label in zip(X_train, y_train):\n",
        "            if distance_metric == 'euclidean':\n",
        "                dist = euclidean_distance(x_test, x_train)\n",
        "            elif distance_metric == 'manhattan':\n",
        "                dist = manhattan_distance(x_test, x_train)\n",
        "            distances.append((dist, y_train_label))\n",
        "\n",
        "        # Sort by distance and get the k nearest neighbors\n",
        "        distances.sort(key=lambda x: x[0])\n",
        "        k_nearest_neighbors = [label for _, label in distances[:k]]\n",
        "\n",
        "        # Get the most common class label among the k nearest neighbors\n",
        "        most_common = Counter(k_nearest_neighbors).most_common(1)\n",
        "        predictions.append(most_common[0][0])\n",
        "\n",
        "    return np.array(predictions)\n",
        "\n",
        "# Set the value of k\n",
        "k = 3\n",
        "\n",
        "# Predict using Euclidean distance\n",
        "y_pred_euclidean = knn_predict(X_train, y_train, X_test, k, 'euclidean')\n",
        "\n",
        "# Predict using Manhattan distance\n",
        "y_pred_manhattan = knn_predict(X_train, y_train, X_test, k, 'manhattan')\n",
        "\n",
        "# Confusion matrix and classification report for Euclidean distance\n",
        "print(\"Euclidean Distance:\")\n",
        "print(\"Confusion Matrix:\")\n",
        "print(confusion_matrix(y_test, y_pred_euclidean))\n",
        "print(\"Classification Report:\")\n",
        "print(classification_report(y_test, y_pred_euclidean))\n",
        "\n",
        "# Confusion matrix and classification report for Manhattan distance\n",
        "print(\"Manhattan Distance:\")\n",
        "print(\"Confusion Matrix:\")\n",
        "print(confusion_matrix(y_test, y_pred_manhattan))\n",
        "print(\"Classification Report:\")\n",
        "print(classification_report(y_test, y_pred_manhattan))\n"
      ],
      "metadata": {
        "colab": {
          "base_uri": "https://localhost:8080/"
        },
        "id": "ZhquuVhhpDwv",
        "outputId": "7ce46287-04e1-46ff-a128-3e6dbe144f6c"
      },
      "execution_count": null,
      "outputs": [
        {
          "output_type": "stream",
          "name": "stdout",
          "text": [
            "Euclidean Distance:\n",
            "Confusion Matrix:\n",
            "[[17 10]\n",
            " [12 22]]\n",
            "Classification Report:\n",
            "              precision    recall  f1-score   support\n",
            "\n",
            "           0       0.59      0.63      0.61        27\n",
            "           1       0.69      0.65      0.67        34\n",
            "\n",
            "    accuracy                           0.64        61\n",
            "   macro avg       0.64      0.64      0.64        61\n",
            "weighted avg       0.64      0.64      0.64        61\n",
            "\n",
            "Manhattan Distance:\n",
            "Confusion Matrix:\n",
            "[[16 11]\n",
            " [10 24]]\n",
            "Classification Report:\n",
            "              precision    recall  f1-score   support\n",
            "\n",
            "           0       0.62      0.59      0.60        27\n",
            "           1       0.69      0.71      0.70        34\n",
            "\n",
            "    accuracy                           0.66        61\n",
            "   macro avg       0.65      0.65      0.65        61\n",
            "weighted avg       0.65      0.66      0.65        61\n",
            "\n"
          ]
        }
      ]
    },
    {
      "cell_type": "code",
      "source": [
        "\n",
        "import numpy as np\n",
        "import pandas as pd\n",
        "from sklearn.model_selection import train_test_split\n",
        "from sklearn import metrics\n",
        "from sklearn.neighbors import KNeighborsClassifier\n",
        "from sklearn.metrics import confusion_matrix, classification_report, roc_curve, roc_auc_score\n",
        "from sklearn import metrics\n",
        "\n",
        "df2= pd.read_csv(\"/content/sample_data/spambase.csv\")\n",
        "predictors2= df2.drop('spam', axis= 1)\n",
        "target2= df2['spam']\n",
        "X_train, X_test, y_train, y_test= train_test_split(predictors2, target2, test_size= 0.20, random_state= 0)\n",
        "knn= KNeighborsClassifier(n_neighbors=5, n_jobs= -1).fit(X_train, y_train)\n",
        "y_pred= knn.predict(X_test)\n",
        "print(\"The accuracy is \" + str(metrics.accuracy_score(y_test, y_pred) * 100) + \"%\")\n",
        "print(f'the confusion matrix is {confusion_matrix(y_test, y_pred)}')\n",
        "target_names = [\"class 0\", \"class 1\"]\n",
        "print(f'the classification report is:')\n",
        "print(classification_report(y_test, y_pred, target_names=target_names))\n",
        "fpr, tpr, thresholds = metrics.roc_curve(y_test, y_pred, pos_label=1 )\n",
        "print(f'the False positive rate (FPR) is {fpr}')\n",
        "print(f'the True positive rate (TPR) is {tpr}')\n",
        "roc_auc = roc_auc_score(y_test, y_pred)\n",
        "print(f'the Area under the ROC Curve is {roc_auc}')"
      ],
      "metadata": {
        "colab": {
          "base_uri": "https://localhost:8080/"
        },
        "id": "FFbvgC64R0Xv",
        "outputId": "a833fa8e-0adf-4a76-f8f3-cb27fe2d992b"
      },
      "execution_count": null,
      "outputs": [
        {
          "output_type": "stream",
          "name": "stdout",
          "text": [
            "The accuracy is 80.56460369163952%\n",
            "the confusion matrix is [[463  75]\n",
            " [104 279]]\n",
            "the classification report is:\n",
            "              precision    recall  f1-score   support\n",
            "\n",
            "     class 0       0.82      0.86      0.84       538\n",
            "     class 1       0.79      0.73      0.76       383\n",
            "\n",
            "    accuracy                           0.81       921\n",
            "   macro avg       0.80      0.79      0.80       921\n",
            "weighted avg       0.80      0.81      0.80       921\n",
            "\n",
            "the False positive rate (FPR) is [0.        0.1394052 1.       ]\n",
            "the True positive rate (TPR) is [0.         0.72845953 1.        ]\n",
            "the Area under the ROC Curve is 0.7945271627825714\n"
          ]
        }
      ]
    }
  ]
}