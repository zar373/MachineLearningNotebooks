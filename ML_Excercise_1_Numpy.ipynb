{
  "nbformat": 4,
  "nbformat_minor": 0,
  "metadata": {
    "colab": {
      "provenance": []
    },
    "kernelspec": {
      "name": "python3",
      "display_name": "Python 3"
    },
    "language_info": {
      "name": "python"
    }
  },
  "cells": [
    {
      "cell_type": "code",
      "execution_count": null,
      "metadata": {
        "id": "EFIPeoa6yhfV"
      },
      "outputs": [],
      "source": [
        "import numpy as np"
      ]
    },
    {
      "cell_type": "code",
      "source": [
        "# Question 1\n",
        "# bold elements; 9 and 12, 5 and 4\n",
        "data1= np.array([1 ,3 ,9 ,12, 18])\n",
        "data2=np.array([[1,5,2,0], [3,6, 4,7]])\n",
        "data3= np.array([['7','6'], ['5', '4'],['3', '2']])\n",
        "data4= np.array([[11, 52, 20, 50],[34, 61, 43, 17]])\n",
        "\n",
        "print(data1)\n",
        "print(data2)\n",
        "print(data3)\n",
        "print(data4)"
      ],
      "metadata": {
        "id": "7fD0WZDT42JP",
        "colab": {
          "base_uri": "https://localhost:8080/"
        },
        "outputId": "4902664a-292d-48ee-edea-3ae925d4240b"
      },
      "execution_count": null,
      "outputs": [
        {
          "output_type": "stream",
          "name": "stdout",
          "text": [
            "[ 1  3  9 12 18]\n",
            "[[1 5 2 0]\n",
            " [3 6 4 7]]\n",
            "[['7' '6']\n",
            " ['5' '4']\n",
            " ['3' '2']]\n",
            "[[11 52 20 50]\n",
            " [34 61 43 17]]\n"
          ]
        }
      ]
    },
    {
      "cell_type": "code",
      "source": [
        "#Question 3: Add Data1 in Data1. Multiply Data1 by 10. Convert Data1, Data2, Data3, and Data4 datatypes to integer.\n",
        "\n",
        "answer1 = data1 + data1\n",
        "print(answer1)\n",
        "answer1 = answer1 * 10\n",
        "print(answer1)\n",
        "\n",
        "data1= data1.astype(int)\n",
        "data2= data2.astype(int)\n",
        "data3= data3.astype(int)\n",
        "data4= data4.astype(int)"
      ],
      "metadata": {
        "id": "g1vO8Plg5daI",
        "colab": {
          "base_uri": "https://localhost:8080/"
        },
        "outputId": "96cdbce0-8297-4c59-f79b-e52e3b5ddc5b"
      },
      "execution_count": null,
      "outputs": [
        {
          "output_type": "stream",
          "name": "stdout",
          "text": [
            "[ 2  6 18 24 36]\n",
            "[ 20  60 180 240 360]\n"
          ]
        }
      ]
    },
    {
      "cell_type": "code",
      "source": [
        "# Question 4: Create a 3x5 array of 0s. 2x8 array of 1s, 6x3 array of integer random numbers.\n",
        "\n",
        "data5= np.zeros((3,5))\n",
        "data6= np.ones((6,3))\n",
        "data7= np.random.normal(size= (6,3))\n",
        "\n",
        "print(data5)\n",
        "print(data6)\n",
        "print(data7)"
      ],
      "metadata": {
        "id": "EUWHhnV17h_i",
        "colab": {
          "base_uri": "https://localhost:8080/"
        },
        "outputId": "6a744df5-71fe-48a7-943b-dabc52b57a6a"
      },
      "execution_count": null,
      "outputs": [
        {
          "output_type": "stream",
          "name": "stdout",
          "text": [
            "[[0. 0. 0. 0. 0.]\n",
            " [0. 0. 0. 0. 0.]\n",
            " [0. 0. 0. 0. 0.]]\n",
            "[[1. 1. 1.]\n",
            " [1. 1. 1.]\n",
            " [1. 1. 1.]\n",
            " [1. 1. 1.]\n",
            " [1. 1. 1.]\n",
            " [1. 1. 1.]]\n",
            "[[-1.16753361  1.15585971 -0.9504492 ]\n",
            " [-0.56894703 -0.38411838 -1.19645127]\n",
            " [ 0.96454548 -0.06931939  0.37769789]\n",
            " [-1.05006888  1.00348579  0.60127037]\n",
            " [ 0.52472748  0.24148155  0.37847678]\n",
            " [-1.50759821 -0.63227178  0.24023949]]\n"
          ]
        }
      ]
    },
    {
      "cell_type": "code",
      "source": [
        "# Question 5: Square the bold elements of Data1 and Data2. Hint: use indexing and slicing.\n",
        "\n",
        "answer2= data1[2:4]\n",
        "answer3= data2[[0, 1], [1, 2]]\n",
        "\n",
        "print(answer2**2)\n",
        "print(answer3**2)"
      ],
      "metadata": {
        "colab": {
          "base_uri": "https://localhost:8080/"
        },
        "id": "QjKZCfe1HQH_",
        "outputId": "c38df7d8-015c-4b87-951e-b62abba5722e"
      },
      "execution_count": null,
      "outputs": [
        {
          "output_type": "stream",
          "name": "stdout",
          "text": [
            "[ 81 144]\n",
            "[25 16]\n"
          ]
        }
      ]
    },
    {
      "cell_type": "code",
      "source": [
        "# Question 6: Consider an array Subjects =ML OS CCN OS AI MP CCN ML AI. Set all courses to 0 except ML and AI. Hint: use Boolean indexing.\n",
        "\n",
        "data8= np.array([['ML', 'OS', 'CCN'], ['OS', 'AI', 'MP'], ['CCN', 'ML', 'AI']])\n",
        "answer4= np.logical_or(data8 == 'ML', data8 == 'AI')\n",
        "data8[~answer4] = 0\n",
        "data8"
      ],
      "metadata": {
        "colab": {
          "base_uri": "https://localhost:8080/"
        },
        "id": "sYCNgZyPJZ9u",
        "outputId": "2976a186-2b3d-4756-a448-1dfa11dc317a"
      },
      "execution_count": null,
      "outputs": [
        {
          "output_type": "execute_result",
          "data": {
            "text/plain": [
              "array([['ML', '0', '0'],\n",
              "       ['0', 'AI', '0'],\n",
              "       ['0', 'ML', 'AI']], dtype='<U3')"
            ]
          },
          "metadata": {},
          "execution_count": 55
        }
      ]
    },
    {
      "cell_type": "code",
      "source": [
        "#Question 7: Transpose the Data2, Data3, and Data4 arrays using appropriate function.\n",
        "\n",
        "answer5= np.transpose(data2)\n",
        "\n",
        "answer6= np.transpose(data3)\n",
        "\n",
        "answer7= np.transpose(data4)\n",
        "print(answer5)\n",
        "print(answer6)\n",
        "print(answer7)"
      ],
      "metadata": {
        "colab": {
          "base_uri": "https://localhost:8080/"
        },
        "id": "l4L9eyWGOBUm",
        "outputId": "12f20330-b407-4ab7-ad3e-ccab06e02370"
      },
      "execution_count": null,
      "outputs": [
        {
          "output_type": "stream",
          "name": "stdout",
          "text": [
            "[[1 3]\n",
            " [5 6]\n",
            " [2 4]\n",
            " [0 7]]\n",
            "[[7 5 3]\n",
            " [6 4 2]]\n",
            "[[11 34]\n",
            " [52 61]\n",
            " [20 43]\n",
            " [50 17]]\n"
          ]
        }
      ]
    },
    {
      "cell_type": "code",
      "source": [
        "#Question 8: Concatenate Data2 and Data4 using vstack and hstack.\n",
        "\n",
        "answer8= np.hstack((data2, data4))\n",
        "print(answer8)\n",
        "\n",
        "answer9= np.vstack((data2, data4))\n",
        "print(answer9)"
      ],
      "metadata": {
        "id": "W-iF6Ex7QhLZ",
        "colab": {
          "base_uri": "https://localhost:8080/"
        },
        "outputId": "128f9422-bca2-4de6-8fde-9c0073cdda9a"
      },
      "execution_count": null,
      "outputs": [
        {
          "output_type": "stream",
          "name": "stdout",
          "text": [
            "[[ 1  5  2  0 11 52 20 50]\n",
            " [ 3  6  4  7 34 61 43 17]]\n"
          ]
        },
        {
          "output_type": "execute_result",
          "data": {
            "text/plain": [
              "<function print>"
            ]
          },
          "metadata": {},
          "execution_count": 57
        }
      ]
    },
    {
      "cell_type": "code",
      "source": [
        "# Question 9: Demean each column of Data2. Hint: use broadcasting.\n",
        "\n",
        "mean2= data2.mean(axis= 0)\n",
        "\n",
        "data2_demean= data2 - mean2\n",
        "print(data2)\n",
        "print(mean2)\n",
        "data2_demean"
      ],
      "metadata": {
        "id": "d-BO4w-2RleG",
        "colab": {
          "base_uri": "https://localhost:8080/"
        },
        "outputId": "f18bdf17-476a-41c8-d528-32fd5c0fb36f"
      },
      "execution_count": null,
      "outputs": [
        {
          "output_type": "stream",
          "name": "stdout",
          "text": [
            "[[1 5 2 0]\n",
            " [3 6 4 7]]\n",
            "[2.  5.5 3.  3.5]\n"
          ]
        },
        {
          "output_type": "execute_result",
          "data": {
            "text/plain": [
              "array([[-1. , -0.5, -1. , -3.5],\n",
              "       [ 1. ,  0.5,  1. ,  3.5]])"
            ]
          },
          "metadata": {},
          "execution_count": 58
        }
      ]
    },
    {
      "cell_type": "code",
      "source": [
        "# Question 10: Convert Data2 shape into 4x2. Hint: Use reshape function.\n",
        "\n",
        "answer10= data2.reshape(4,2)\n",
        "\n",
        "print(answer10)"
      ],
      "metadata": {
        "id": "bGnTCFsGqcg9",
        "colab": {
          "base_uri": "https://localhost:8080/"
        },
        "outputId": "71ddcc7a-7e40-4f96-fedc-3d4d15f64f0d"
      },
      "execution_count": null,
      "outputs": [
        {
          "output_type": "stream",
          "name": "stdout",
          "text": [
            "[[1 5]\n",
            " [2 0]\n",
            " [3 6]\n",
            " [4 7]]\n"
          ]
        }
      ]
    },
    {
      "cell_type": "code",
      "source": [
        "#Question 11: Consider the table having marks of three students scored in three subjects. Compute the maximum score of each subject. Hint: use max function.\n",
        "\n",
        "data9= np.array([[60, 70, 50],\n",
        "        [40, 60, 80],\n",
        "        [70, 55, 65]])\n",
        "\n",
        "\n",
        "answer11= list(data9.max(axis= 1))\n",
        "print(answer11)\n",
        "for index, value in enumerate(answer11, start= 1):\n",
        "  print(\"Max marks of Subject\"+ str(index) + \" is: \" + str(value))\n"
      ],
      "metadata": {
        "id": "xq3dGUxLqqsR",
        "colab": {
          "base_uri": "https://localhost:8080/"
        },
        "outputId": "3e1913bd-8740-4950-9508-9ea198043211"
      },
      "execution_count": null,
      "outputs": [
        {
          "output_type": "stream",
          "name": "stdout",
          "text": [
            "[70, 80, 70]\n",
            "Max marks of Subject1 is: 70\n",
            "Max marks of Subject2 is: 80\n",
            "Max marks of Subject3 is: 70\n"
          ]
        }
      ]
    },
    {
      "cell_type": "code",
      "source": [
        "#Question 12: Compute the CGPA of all three students using the following formula and tables 1.11 and 1.12 (Hint:Use ufunc methods).\n",
        "data9_subject_student= np.array([\n",
        "        [60, 70, 50],\n",
        "        [40, 60, 80],\n",
        "        [70, 55, 65]])\n",
        "hours= np.array([[2],\n",
        "                 [3],\n",
        "                 [4]])\n",
        "# # print(hours.shape)\n",
        "# # print(data9_subject_student.shape)\n",
        "# total_hours= hours.sum()\n",
        "# print(total_hours)\n",
        "\n",
        "# hours_point= np.multiply( hours, data9_subject_student)\n",
        "# hours_point_sum= hours_point.sum(axis= 0)\n",
        "# print(hours_point)\n",
        "# print(hours_point_sum)\n",
        "\n",
        "\n",
        "# cgpa= np.divide(hours_point_sum, total_hours)\n",
        "# cgpa= cgpa.astype('int32')\n",
        "# cgpa= list(cgpa)\n",
        "# print(cgpa)\n",
        "# # for index, value in enumerate(cgpa, start= 1):\n",
        "# #   print(\"Student\" + str(index) +  \" is \" + str(value))\n",
        "\n",
        "# for index, value in enumerate(cgpa, start= 1):\n",
        "#   if value >= 57 and value <= 59:\n",
        "#     print(\"The grade is C-\" + \" of the Student \" + str(index))\n",
        "#   elif value >= 60 and value <= 63:\n",
        "#     print(\"The grade is C\" + \" of the Student \" + str(index))\n",
        "#   elif value >= 64 and value <= 66:\n",
        "#     print(\"The grade is C+\" + \" of the Student \" + str(index))\n",
        "#   elif value >= 67 and value <= 69:\n",
        "#     print(\"The grade is B-\" + \" of the Student \" + str(index))\n",
        "data9_new_row = []  # Initialize an empty list to store rows of grades\n",
        "\n",
        "for data_row in data9_subject_student:\n",
        "    data9_new = []  # Initialize a new list for each row\n",
        "    for data in data_row:\n",
        "        if data < 50:\n",
        "            grade = 0.0\n",
        "        elif 50 <= data <= 53:\n",
        "            grade = 1.0\n",
        "        elif 54 <= data <= 56:\n",
        "            grade = 1.4\n",
        "        elif 57 <= data <= 59:\n",
        "            grade = 1.7\n",
        "        elif 60 <= data <= 63:\n",
        "            grade = 2.0\n",
        "        elif 64 <= data <= 66:\n",
        "            grade = 2.4\n",
        "        elif 67 <= data <= 69:\n",
        "            grade = 2.7\n",
        "        elif 70 <= data <= 74:\n",
        "            grade = 3.0\n",
        "        elif 75 <= data <= 79:\n",
        "            grade = 3.4\n",
        "        elif 80 <= data <= 84:\n",
        "            grade = 3.7\n",
        "        elif 85 <= data <= 93:\n",
        "            grade = 4.0\n",
        "        elif 94 <= data <= 100:\n",
        "            grade = 4.0\n",
        "        data9_new.append(grade)  # Append the grade to the current row\n",
        "    data9_new_row.append(data9_new)  # Append the completed row to the final result\n",
        "\n",
        "data9_new_row  # This will be the new array with grading points\n",
        "data9_new_row= np.array(data9_new_row)\n",
        "print(data9_new_row)\n",
        "hours_point= np.multiply( hours, data9_new_row)\n",
        "print(hours_point)\n",
        "sum_hours_point= np.sum(hours_point, axis= 0)\n",
        "print(sum_hours_point)\n",
        "total_hours= hours.sum()\n",
        "cgpa= np.divide(sum_hours_point, total_hours)\n",
        "cgpa"
      ],
      "metadata": {
        "id": "TwG7IIOwtUIw",
        "colab": {
          "base_uri": "https://localhost:8080/"
        },
        "outputId": "3518001c-79c1-4c68-9f16-910b97cebb69"
      },
      "execution_count": null,
      "outputs": [
        {
          "output_type": "stream",
          "name": "stdout",
          "text": [
            "[[2.  3.  1. ]\n",
            " [0.  2.  3.7]\n",
            " [3.  1.4 2.4]]\n",
            "[[ 4.   6.   2. ]\n",
            " [ 0.   6.  11.1]\n",
            " [12.   5.6  9.6]]\n",
            "[16.  17.6 22.7]\n"
          ]
        },
        {
          "output_type": "execute_result",
          "data": {
            "text/plain": [
              "array([1.77777778, 1.95555556, 2.52222222])"
            ]
          },
          "metadata": {},
          "execution_count": 61
        }
      ]
    },
    {
      "cell_type": "code",
      "source": [
        "#Question 13: Compute the sorted unique values in subjects array.\n",
        "\n",
        "data8= np.array([['ML', 'OS', 'CCN'], ['OS', 'AI', 'MP'], ['CCN', 'ML', 'AI']])\n",
        "\n",
        "data9_sort= np.sort(data8)\n",
        "\n",
        "answer12= np.unique(data9_sort)\n",
        "\n",
        "print(answer12)"
      ],
      "metadata": {
        "id": "CKTCsSuoHPYk",
        "colab": {
          "base_uri": "https://localhost:8080/"
        },
        "outputId": "dd781a9c-7bd5-4391-87b9-88ca96fdc287"
      },
      "execution_count": null,
      "outputs": [
        {
          "output_type": "stream",
          "name": "stdout",
          "text": [
            "['AI' 'CCN' 'ML' 'MP' 'OS']\n"
          ]
        }
      ]
    },
    {
      "cell_type": "code",
      "source": [
        "# Question 14: Compute the dot product and inverse of 4x4 random matrix. Hint: Use numpy.linalg functions.\n",
        "\n",
        "data10= np.random.normal(size= (4,4))\n",
        "data10\n",
        "\n",
        "answer12= np.linalg.inv(data10)\n",
        "answer12\n",
        "answer13= np.dot(data10, answer12)\n",
        "print(answer13)"
      ],
      "metadata": {
        "id": "V1W6R4nbIFDZ",
        "colab": {
          "base_uri": "https://localhost:8080/"
        },
        "outputId": "442eb8fd-ca8c-4774-b42d-3a41446fd9bc"
      },
      "execution_count": null,
      "outputs": [
        {
          "output_type": "stream",
          "name": "stdout",
          "text": [
            "[[ 1.00000000e+00 -1.44948716e-16 -1.82659133e-16  5.31333868e-17]\n",
            " [-2.45692548e-16  1.00000000e+00 -1.01943473e-16  5.54657768e-17]\n",
            " [-7.41855079e-16  5.11119003e-16  1.00000000e+00 -3.92285368e-17]\n",
            " [ 2.05440941e-16  1.39312493e-16  8.25758635e-17  1.00000000e+00]]\n"
          ]
        }
      ]
    },
    {
      "cell_type": "code",
      "source": [
        "#Question 15: Store all the created arrays on disk.\n",
        "\n",
        "\n",
        "# np.savez('lab1_arrays.npz', data1= data1, data2= data2, data3= data3, data4=data4)\n",
        "\n",
        "# from google.colab import drive\n",
        "\n",
        "# drive.mount(\"/content/drive\")\n",
        "\n",
        "arr = np.loadtxt('/content/drive/MyDrive/Colab Notebook For ML Excercise/lab1_arrays.txt', delimiter=',')\n",
        "arr\n",
        "\n"
      ],
      "metadata": {
        "id": "nFzxoAYvxHo8",
        "colab": {
          "base_uri": "https://localhost:8080/",
          "height": 356
        },
        "outputId": "4d46f505-b1e6-45ac-ef1e-cd094d96056e"
      },
      "execution_count": null,
      "outputs": [
        {
          "output_type": "error",
          "ename": "FileNotFoundError",
          "evalue": "/content/drive/MyDrive/Colab Notebook For ML Excercise/lab1_arrays.txt not found.",
          "traceback": [
            "\u001b[0;31m---------------------------------------------------------------------------\u001b[0m",
            "\u001b[0;31mFileNotFoundError\u001b[0m                         Traceback (most recent call last)",
            "\u001b[0;32m<ipython-input-64-dd92edd64d3a>\u001b[0m in \u001b[0;36m<cell line: 10>\u001b[0;34m()\u001b[0m\n\u001b[1;32m      8\u001b[0m \u001b[0;31m# drive.mount(\"/content/drive\")\u001b[0m\u001b[0;34m\u001b[0m\u001b[0;34m\u001b[0m\u001b[0m\n\u001b[1;32m      9\u001b[0m \u001b[0;34m\u001b[0m\u001b[0m\n\u001b[0;32m---> 10\u001b[0;31m \u001b[0marr\u001b[0m \u001b[0;34m=\u001b[0m \u001b[0mnp\u001b[0m\u001b[0;34m.\u001b[0m\u001b[0mloadtxt\u001b[0m\u001b[0;34m(\u001b[0m\u001b[0;34m'/content/drive/MyDrive/Colab Notebook For ML Excercise/lab1_arrays.txt'\u001b[0m\u001b[0;34m,\u001b[0m \u001b[0mdelimiter\u001b[0m\u001b[0;34m=\u001b[0m\u001b[0;34m','\u001b[0m\u001b[0;34m)\u001b[0m\u001b[0;34m\u001b[0m\u001b[0;34m\u001b[0m\u001b[0m\n\u001b[0m\u001b[1;32m     11\u001b[0m \u001b[0marr\u001b[0m\u001b[0;34m\u001b[0m\u001b[0;34m\u001b[0m\u001b[0m\n\u001b[1;32m     12\u001b[0m \u001b[0;34m\u001b[0m\u001b[0m\n",
            "\u001b[0;32m/usr/local/lib/python3.10/dist-packages/numpy/lib/npyio.py\u001b[0m in \u001b[0;36mloadtxt\u001b[0;34m(fname, dtype, comments, delimiter, converters, skiprows, usecols, unpack, ndmin, encoding, max_rows, quotechar, like)\u001b[0m\n\u001b[1;32m   1371\u001b[0m         \u001b[0mdelimiter\u001b[0m \u001b[0;34m=\u001b[0m \u001b[0mdelimiter\u001b[0m\u001b[0;34m.\u001b[0m\u001b[0mdecode\u001b[0m\u001b[0;34m(\u001b[0m\u001b[0;34m'latin1'\u001b[0m\u001b[0;34m)\u001b[0m\u001b[0;34m\u001b[0m\u001b[0;34m\u001b[0m\u001b[0m\n\u001b[1;32m   1372\u001b[0m \u001b[0;34m\u001b[0m\u001b[0m\n\u001b[0;32m-> 1373\u001b[0;31m     arr = _read(fname, dtype=dtype, comment=comment, delimiter=delimiter,\n\u001b[0m\u001b[1;32m   1374\u001b[0m                 \u001b[0mconverters\u001b[0m\u001b[0;34m=\u001b[0m\u001b[0mconverters\u001b[0m\u001b[0;34m,\u001b[0m \u001b[0mskiplines\u001b[0m\u001b[0;34m=\u001b[0m\u001b[0mskiprows\u001b[0m\u001b[0;34m,\u001b[0m \u001b[0musecols\u001b[0m\u001b[0;34m=\u001b[0m\u001b[0musecols\u001b[0m\u001b[0;34m,\u001b[0m\u001b[0;34m\u001b[0m\u001b[0;34m\u001b[0m\u001b[0m\n\u001b[1;32m   1375\u001b[0m                 \u001b[0munpack\u001b[0m\u001b[0;34m=\u001b[0m\u001b[0munpack\u001b[0m\u001b[0;34m,\u001b[0m \u001b[0mndmin\u001b[0m\u001b[0;34m=\u001b[0m\u001b[0mndmin\u001b[0m\u001b[0;34m,\u001b[0m \u001b[0mencoding\u001b[0m\u001b[0;34m=\u001b[0m\u001b[0mencoding\u001b[0m\u001b[0;34m,\u001b[0m\u001b[0;34m\u001b[0m\u001b[0;34m\u001b[0m\u001b[0m\n",
            "\u001b[0;32m/usr/local/lib/python3.10/dist-packages/numpy/lib/npyio.py\u001b[0m in \u001b[0;36m_read\u001b[0;34m(fname, delimiter, comment, quote, imaginary_unit, usecols, skiplines, max_rows, converters, ndmin, unpack, dtype, encoding)\u001b[0m\n\u001b[1;32m    990\u001b[0m             \u001b[0mfname\u001b[0m \u001b[0;34m=\u001b[0m \u001b[0mos\u001b[0m\u001b[0;34m.\u001b[0m\u001b[0mfspath\u001b[0m\u001b[0;34m(\u001b[0m\u001b[0mfname\u001b[0m\u001b[0;34m)\u001b[0m\u001b[0;34m\u001b[0m\u001b[0;34m\u001b[0m\u001b[0m\n\u001b[1;32m    991\u001b[0m         \u001b[0;32mif\u001b[0m \u001b[0misinstance\u001b[0m\u001b[0;34m(\u001b[0m\u001b[0mfname\u001b[0m\u001b[0;34m,\u001b[0m \u001b[0mstr\u001b[0m\u001b[0;34m)\u001b[0m\u001b[0;34m:\u001b[0m\u001b[0;34m\u001b[0m\u001b[0;34m\u001b[0m\u001b[0m\n\u001b[0;32m--> 992\u001b[0;31m             \u001b[0mfh\u001b[0m \u001b[0;34m=\u001b[0m \u001b[0mnp\u001b[0m\u001b[0;34m.\u001b[0m\u001b[0mlib\u001b[0m\u001b[0;34m.\u001b[0m\u001b[0m_datasource\u001b[0m\u001b[0;34m.\u001b[0m\u001b[0mopen\u001b[0m\u001b[0;34m(\u001b[0m\u001b[0mfname\u001b[0m\u001b[0;34m,\u001b[0m \u001b[0;34m'rt'\u001b[0m\u001b[0;34m,\u001b[0m \u001b[0mencoding\u001b[0m\u001b[0;34m=\u001b[0m\u001b[0mencoding\u001b[0m\u001b[0;34m)\u001b[0m\u001b[0;34m\u001b[0m\u001b[0;34m\u001b[0m\u001b[0m\n\u001b[0m\u001b[1;32m    993\u001b[0m             \u001b[0;32mif\u001b[0m \u001b[0mencoding\u001b[0m \u001b[0;32mis\u001b[0m \u001b[0;32mNone\u001b[0m\u001b[0;34m:\u001b[0m\u001b[0;34m\u001b[0m\u001b[0;34m\u001b[0m\u001b[0m\n\u001b[1;32m    994\u001b[0m                 \u001b[0mencoding\u001b[0m \u001b[0;34m=\u001b[0m \u001b[0mgetattr\u001b[0m\u001b[0;34m(\u001b[0m\u001b[0mfh\u001b[0m\u001b[0;34m,\u001b[0m \u001b[0;34m'encoding'\u001b[0m\u001b[0;34m,\u001b[0m \u001b[0;34m'latin1'\u001b[0m\u001b[0;34m)\u001b[0m\u001b[0;34m\u001b[0m\u001b[0;34m\u001b[0m\u001b[0m\n",
            "\u001b[0;32m/usr/local/lib/python3.10/dist-packages/numpy/lib/_datasource.py\u001b[0m in \u001b[0;36mopen\u001b[0;34m(path, mode, destpath, encoding, newline)\u001b[0m\n\u001b[1;32m    191\u001b[0m \u001b[0;34m\u001b[0m\u001b[0m\n\u001b[1;32m    192\u001b[0m     \u001b[0mds\u001b[0m \u001b[0;34m=\u001b[0m \u001b[0mDataSource\u001b[0m\u001b[0;34m(\u001b[0m\u001b[0mdestpath\u001b[0m\u001b[0;34m)\u001b[0m\u001b[0;34m\u001b[0m\u001b[0;34m\u001b[0m\u001b[0m\n\u001b[0;32m--> 193\u001b[0;31m     \u001b[0;32mreturn\u001b[0m \u001b[0mds\u001b[0m\u001b[0;34m.\u001b[0m\u001b[0mopen\u001b[0m\u001b[0;34m(\u001b[0m\u001b[0mpath\u001b[0m\u001b[0;34m,\u001b[0m \u001b[0mmode\u001b[0m\u001b[0;34m,\u001b[0m \u001b[0mencoding\u001b[0m\u001b[0;34m=\u001b[0m\u001b[0mencoding\u001b[0m\u001b[0;34m,\u001b[0m \u001b[0mnewline\u001b[0m\u001b[0;34m=\u001b[0m\u001b[0mnewline\u001b[0m\u001b[0;34m)\u001b[0m\u001b[0;34m\u001b[0m\u001b[0;34m\u001b[0m\u001b[0m\n\u001b[0m\u001b[1;32m    194\u001b[0m \u001b[0;34m\u001b[0m\u001b[0m\n\u001b[1;32m    195\u001b[0m \u001b[0;34m\u001b[0m\u001b[0m\n",
            "\u001b[0;32m/usr/local/lib/python3.10/dist-packages/numpy/lib/_datasource.py\u001b[0m in \u001b[0;36mopen\u001b[0;34m(self, path, mode, encoding, newline)\u001b[0m\n\u001b[1;32m    531\u001b[0m                                       encoding=encoding, newline=newline)\n\u001b[1;32m    532\u001b[0m         \u001b[0;32melse\u001b[0m\u001b[0;34m:\u001b[0m\u001b[0;34m\u001b[0m\u001b[0;34m\u001b[0m\u001b[0m\n\u001b[0;32m--> 533\u001b[0;31m             \u001b[0;32mraise\u001b[0m \u001b[0mFileNotFoundError\u001b[0m\u001b[0;34m(\u001b[0m\u001b[0;34mf\"{path} not found.\"\u001b[0m\u001b[0;34m)\u001b[0m\u001b[0;34m\u001b[0m\u001b[0;34m\u001b[0m\u001b[0m\n\u001b[0m\u001b[1;32m    534\u001b[0m \u001b[0;34m\u001b[0m\u001b[0m\n\u001b[1;32m    535\u001b[0m \u001b[0;34m\u001b[0m\u001b[0m\n",
            "\u001b[0;31mFileNotFoundError\u001b[0m: /content/drive/MyDrive/Colab Notebook For ML Excercise/lab1_arrays.txt not found."
          ]
        }
      ]
    }
  ]
}